{
  "nbformat": 4,
  "nbformat_minor": 0,
  "metadata": {
    "colab": {
      "name": "Untitled0.ipynb",
      "provenance": [],
      "authorship_tag": "ABX9TyPPOU63lHumQ8nB27tkiGhE",
      "include_colab_link": true
    },
    "kernelspec": {
      "name": "python3",
      "display_name": "Python 3"
    },
    "language_info": {
      "name": "python"
    }
  },
  "cells": [
    {
      "cell_type": "markdown",
      "metadata": {
        "id": "view-in-github",
        "colab_type": "text"
      },
      "source": [
        "<a href=\"https://colab.research.google.com/github/VaibhavPachpute21/BootStrapPractice/blob/main/day1.ipynb\" target=\"_parent\"><img src=\"https://colab.research.google.com/assets/colab-badge.svg\" alt=\"Open In Colab\"/></a>"
      ]
    },
    {
      "cell_type": "code",
      "execution_count": 3,
      "metadata": {
        "colab": {
          "base_uri": "https://localhost:8080/"
        },
        "id": "asDWqrMjW0SA",
        "outputId": "ce174730-b737-403b-f0a3-8d03348fd39c"
      },
      "outputs": [
        {
          "output_type": "stream",
          "name": "stdout",
          "text": [
            "Looking in indexes: https://pypi.org/simple, https://us-python.pkg.dev/colab-wheels/public/simple/\n",
            "Collecting PyPDF2\n",
            "  Downloading PyPDF2-2.2.0-py3-none-any.whl (189 kB)\n",
            "\u001b[K     |████████████████████████████████| 189 kB 14.3 MB/s \n",
            "\u001b[?25hRequirement already satisfied: typing-extensions in /usr/local/lib/python3.7/dist-packages (from PyPDF2) (4.2.0)\n",
            "Installing collected packages: PyPDF2\n",
            "Successfully installed PyPDF2-2.2.0\n"
          ]
        }
      ],
      "source": [
        "pip install PyPDF2"
      ]
    },
    {
      "cell_type": "code",
      "source": [
        "import PyPDF2\n",
        "data=open('/content/Introduction+to+natural+language+processing.pdf','rb')\n",
        "reader=PyPDF2.PdfFileReader(data)\n",
        "print(reader.numPages)\n",
        "page=reader.getPage(2)\n",
        "print(page.extractText())\n",
        "\n",
        "textData=open('/content/demo.txt','r')\n",
        "print(textData.read())\n"
      ],
      "metadata": {
        "colab": {
          "base_uri": "https://localhost:8080/"
        },
        "id": "K3IqslzjZpEI",
        "outputId": "4758f408-7328-4e7b-f575-3f0840b4d149"
      },
      "execution_count": 10,
      "outputs": [
        {
          "output_type": "stream",
          "name": "stdout",
          "text": [
            "41\n",
            "What is Natural language processing?\n",
            "Proprietary content. ©Great Learning. All Rights Reserved. Unauthorized use or distribution prohibited\n",
            "\n",
            "NLP stands for natural language processing which is basically used to understand and interpret human \n",
            "language to the machine. In short it is the automatic way to manipulate the  natural language, like speech and \n",
            "text, by software for further analysis to get the required information from them\n",
            "\n",
            "\n",
            "hii this is demo\n"
          ]
        }
      ]
    },
    {
      "cell_type": "code",
      "source": [
        "import pandas as pd\n",
        "data=pd.read_csv('/content/jbs-data-1642853235722.csv')\n",
        "data.head()"
      ],
      "metadata": {
        "colab": {
          "base_uri": "https://localhost:8080/"
        },
        "id": "-yEJsN6tbKcx",
        "outputId": "37b25ff7-c331-42d3-e35f-19484681d9b3"
      },
      "execution_count": 14,
      "outputs": [
        {
          "output_type": "execute_result",
          "data": {
            "text/plain": [
              "Index(['asset_name', 'email_id', 'response_date', 'response', 'Unnamed: 4',\n",
              "       'Unnamed: 5', 'Unnamed: 6', 'Unnamed: 7', 'Unnamed: 8', 'Unnamed: 9',\n",
              "       ...\n",
              "       'Unnamed: 1001', 'Unnamed: 1002', 'Unnamed: 1003', 'Unnamed: 1004',\n",
              "       'Unnamed: 1005', 'Unnamed: 1006', 'Unnamed: 1007', 'Unnamed: 1008',\n",
              "       'Unnamed: 1009', 'Unnamed: 1010'],\n",
              "      dtype='object', length=1011)"
            ]
          },
          "metadata": {},
          "execution_count": 14
        }
      ]
    },
    {
      "cell_type": "code",
      "source": [
        "data.columns\n"
      ],
      "metadata": {
        "colab": {
          "base_uri": "https://localhost:8080/"
        },
        "id": "GSnIfLs0c-Mg",
        "outputId": "395027f0-4d87-41d3-a846-f870a88f79d9"
      },
      "execution_count": 17,
      "outputs": [
        {
          "output_type": "execute_result",
          "data": {
            "text/plain": [
              "Index(['asset_name', 'email_id', 'response_date', 'response', 'Unnamed: 4',\n",
              "       'Unnamed: 5', 'Unnamed: 6', 'Unnamed: 7', 'Unnamed: 8', 'Unnamed: 9',\n",
              "       ...\n",
              "       'Unnamed: 1001', 'Unnamed: 1002', 'Unnamed: 1003', 'Unnamed: 1004',\n",
              "       'Unnamed: 1005', 'Unnamed: 1006', 'Unnamed: 1007', 'Unnamed: 1008',\n",
              "       'Unnamed: 1009', 'Unnamed: 1010'],\n",
              "      dtype='object', length=1011)"
            ]
          },
          "metadata": {},
          "execution_count": 17
        }
      ]
    },
    {
      "cell_type": "code",
      "source": [
        "data.shape"
      ],
      "metadata": {
        "colab": {
          "base_uri": "https://localhost:8080/"
        },
        "id": "s97uhmZQdFbl",
        "outputId": "c8fa864a-2a5e-48ac-b172-bcea8e98b04c"
      },
      "execution_count": 18,
      "outputs": [
        {
          "output_type": "execute_result",
          "data": {
            "text/plain": [
              "(437, 1011)"
            ]
          },
          "metadata": {},
          "execution_count": 18
        }
      ]
    },
    {
      "cell_type": "code",
      "source": [
        "data.describe"
      ],
      "metadata": {
        "id": "g5_CZaIadGqb"
      },
      "execution_count": null,
      "outputs": []
    },
    {
      "cell_type": "code",
      "source": [
        "data.isnull().sum()"
      ],
      "metadata": {
        "colab": {
          "base_uri": "https://localhost:8080/"
        },
        "id": "pVuGg9QAdQG-",
        "outputId": "08f1d16e-03b1-4e6b-d34b-d5ef862a9c8f"
      },
      "execution_count": 21,
      "outputs": [
        {
          "output_type": "execute_result",
          "data": {
            "text/plain": [
              "asset_name         1\n",
              "email_id           0\n",
              "response_date     19\n",
              "response         209\n",
              "Unnamed: 4       266\n",
              "                ... \n",
              "Unnamed: 1006    436\n",
              "Unnamed: 1007    436\n",
              "Unnamed: 1008    436\n",
              "Unnamed: 1009    436\n",
              "Unnamed: 1010    436\n",
              "Length: 1011, dtype: int64"
            ]
          },
          "metadata": {},
          "execution_count": 21
        }
      ]
    },
    {
      "cell_type": "code",
      "source": [
        "data.isnull().any()"
      ],
      "metadata": {
        "colab": {
          "base_uri": "https://localhost:8080/"
        },
        "id": "3ke6_8iJdn0-",
        "outputId": "472ea63d-5308-48b3-a62f-120a068a21b3"
      },
      "execution_count": 22,
      "outputs": [
        {
          "output_type": "execute_result",
          "data": {
            "text/plain": [
              "asset_name        True\n",
              "email_id         False\n",
              "response_date     True\n",
              "response          True\n",
              "Unnamed: 4        True\n",
              "                 ...  \n",
              "Unnamed: 1006     True\n",
              "Unnamed: 1007     True\n",
              "Unnamed: 1008     True\n",
              "Unnamed: 1009     True\n",
              "Unnamed: 1010     True\n",
              "Length: 1011, dtype: bool"
            ]
          },
          "metadata": {},
          "execution_count": 22
        }
      ]
    },
    {
      "cell_type": "code",
      "source": [
        "data_part=data.dropna()\n",
        "data_part.isnull().sum()"
      ],
      "metadata": {
        "colab": {
          "base_uri": "https://localhost:8080/"
        },
        "id": "e-viS0nLd5GL",
        "outputId": "352a4081-b1cd-4cca-da56-88f77ac10966"
      },
      "execution_count": 24,
      "outputs": [
        {
          "output_type": "execute_result",
          "data": {
            "text/plain": [
              "asset_name       0\n",
              "email_id         0\n",
              "response_date    0\n",
              "response         0\n",
              "Unnamed: 4       0\n",
              "                ..\n",
              "Unnamed: 1006    0\n",
              "Unnamed: 1007    0\n",
              "Unnamed: 1008    0\n",
              "Unnamed: 1009    0\n",
              "Unnamed: 1010    0\n",
              "Length: 1011, dtype: int64"
            ]
          },
          "metadata": {},
          "execution_count": 24
        }
      ]
    }
  ]
}